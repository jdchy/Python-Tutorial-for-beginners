{
 "cells": [
  {
   "cell_type": "markdown",
   "metadata": {},
   "source": [
    "# # This example show you how to write Object oriented code in python"
   ]
  },
  {
   "cell_type": "markdown",
   "metadata": {},
   "source": [
    "---> Declaration of a class"
   ]
  },
  {
   "cell_type": "code",
   "execution_count": 6,
   "metadata": {},
   "outputs": [],
   "source": [
    "class Employee:\n",
    "    #Create Constructer\n",
    "    def __init__(self,first,last,pay):#self is always passed into all the normal methods under a class\n",
    "        self.first = first\n",
    "        self.last = last\n",
    "        self.pay = pay\n",
    "        self.email = first.lower() + '.' + last.lower() + '@email.com'"
   ]
  },
  {
   "cell_type": "markdown",
   "metadata": {},
   "source": [
    "---> Object creation of Employee class"
   ]
  },
  {
   "cell_type": "code",
   "execution_count": 12,
   "metadata": {},
   "outputs": [
    {
     "name": "stdout",
     "output_type": "stream",
     "text": [
      "joydip.chowdhury@company.com\n"
     ]
    }
   ],
   "source": [
    "employee_1 = Employee('Joydip','Chowdhury', 50000)\n",
    "print(employee_1.email)"
   ]
  },
  {
   "cell_type": "code",
   "execution_count": 9,
   "metadata": {},
   "outputs": [
    {
     "name": "stdout",
     "output_type": "stream",
     "text": [
      "Joydip\n",
      "Chowdhury\n",
      "50000\n",
      "Fullname : Joydip Chowdhury\n"
     ]
    }
   ],
   "source": [
    "print(employee_1.first)\n",
    "print(employee_1.last)\n",
    "print(employee_1.pay)\n",
    "print('Fullname : '+employee_1.first+' '+employee_1.last)"
   ]
  },
  {
   "cell_type": "markdown",
   "metadata": {},
   "source": [
    "---> Different method under a class"
   ]
  },
  {
   "cell_type": "code",
   "execution_count": 15,
   "metadata": {},
   "outputs": [],
   "source": [
    "class Employee:\n",
    "    num_emps = 0#number of employee initially 0\n",
    "    raise_amount = 0\n",
    "    def __init__(self,first,last,pay):\n",
    "        self.first = first\n",
    "        self.last = last\n",
    "        self.pay = pay\n",
    "        self.email = first.lower() + '.'+ last.lower() + '@company.com'\n",
    "        Employee.num_emps += 1#if constructor called number of employee is increased\n",
    "        \n",
    "    def fullname(self):\n",
    "        return '{} {}'.format(self.first, self.last)\n",
    "    \n",
    "    def apply_raise(self):\n",
    "        self.pay = int(self.pay * self.raise_amount)"
   ]
  },
  {
   "cell_type": "code",
   "execution_count": 16,
   "metadata": {},
   "outputs": [
    {
     "name": "stdout",
     "output_type": "stream",
     "text": [
      "Joydip Chowdhury\n",
      "52500\n",
      "1\n"
     ]
    }
   ],
   "source": [
    "employee_1 = Employee('Joydip','Chowdhury', 50000)\n",
    "\n",
    "#Increase raise amount of employee_1 by 5%\n",
    "employee_1.raise_amount = 1.05\n",
    "employee_1.apply_raise()\n",
    "print(employee_1.fullname())\n",
    "print(employee_1.pay)\n",
    "print(Employee.num_emps)"
   ]
  },
  {
   "cell_type": "markdown",
   "metadata": {},
   "source": [
    "---> Classmethod and staticmethod"
   ]
  },
  {
   "cell_type": "code",
   "execution_count": 17,
   "metadata": {},
   "outputs": [],
   "source": [
    "class Employee:\n",
    "    num_emps = 0#number of employee initially 0\n",
    "    raise_amount = 0\n",
    "    def __init__(self,first,last,pay):\n",
    "        self.first = first\n",
    "        self.last = last\n",
    "        self.pay = pay\n",
    "        self.email = first.lower() + '.'+ last.lower() + '@company.com'\n",
    "        Employee.num_emps += 1#if constructor called number of employee is increased\n",
    "        \n",
    "    def fullname(self):\n",
    "        return '{} {}'.format(self.first, self.last)\n",
    "    \n",
    "    def apply_raise(self):\n",
    "        self.pay = int(self.pay * self.raise_amount)\n",
    "        \n",
    "    @classmethod\n",
    "    def set_raise_amt(cls, amount):#cls is passed as parameter into a classmethod\n",
    "        cls.raise_amount = amount\n",
    "    \n",
    "    @classmethod\n",
    "    def from_string(cls, emp_str):\n",
    "        first, last, pay = emp_str.split('-')\n",
    "        return cls(first,last,pay)\n",
    "    \n",
    "    @staticmethod\n",
    "    def is_workday(day):#in static method you don't need to pass self or cls value as parameter\n",
    "        if day.weekday() == 5 or day.weekday() == 6:\n",
    "            return False\n",
    "        return True"
   ]
  },
  {
   "cell_type": "code",
   "execution_count": null,
   "metadata": {},
   "outputs": [],
   "source": [
    "import datetime\n",
    "my_date = datetime.date(2019, 6, 12)\n",
    "print(Employee.is_workday(my_date))\n",
    "\n",
    "emp_str_1 = 'Joydip-Chowdhury-50000'\n",
    "\n",
    "new_emp = Employee.from_string(emp_str_1)\n",
    "\n",
    "print(new_emp.email)\n",
    "\n",
    "print(new_emp.pay)\n"
   ]
  }
 ],
 "metadata": {
  "kernelspec": {
   "display_name": "Python 3",
   "language": "python",
   "name": "python3"
  },
  "language_info": {
   "codemirror_mode": {
    "name": "ipython",
    "version": 3
   },
   "file_extension": ".py",
   "mimetype": "text/x-python",
   "name": "python",
   "nbconvert_exporter": "python",
   "pygments_lexer": "ipython3",
   "version": "3.6.8"
  }
 },
 "nbformat": 4,
 "nbformat_minor": 2
}
