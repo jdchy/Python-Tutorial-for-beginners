{
 "cells": [
  {
   "cell_type": "markdown",
   "metadata": {},
   "source": [
    "# # In this example we are going to see the use of Inheritance in python"
   ]
  },
  {
   "cell_type": "code",
   "execution_count": 1,
   "metadata": {},
   "outputs": [],
   "source": [
    "class Employee:#This is a super class\n",
    "    \n",
    "    num_emps = 0\n",
    "    raise_amount = 1.04\n",
    "    \n",
    "    def __init__(self,first,last,pay):\n",
    "        self.first = first\n",
    "        self.last = last\n",
    "        self.pay = pay\n",
    "        self.email = first.lower() + '.'+ last.lower() + '@company.com'\n",
    "        \n",
    "        Employee.num_emps += 1\n",
    "        \n",
    "    def fullname(self):\n",
    "        return '{} {}'.format(self.first, self.last)\n",
    "    def apply_raise(self):\n",
    "        self.pay = int(self.pay * self.raise_amount)"
   ]
  },
  {
   "cell_type": "markdown",
   "metadata": {},
   "source": [
    "---> Create sub class"
   ]
  },
  {
   "cell_type": "code",
   "execution_count": 4,
   "metadata": {},
   "outputs": [],
   "source": [
    "class Developer(Employee):\n",
    "    raise_amount = 1.10\n",
    "    \n",
    "    def __init__(self,first,last,pay,prog_lang):\n",
    "        super().__init__(first,last,pay)#Calling the constructor of super class\n",
    "        self.prog_lang = prog_lang"
   ]
  },
  {
   "cell_type": "code",
   "execution_count": 5,
   "metadata": {},
   "outputs": [
    {
     "name": "stdout",
     "output_type": "stream",
     "text": [
      "Joydip Chowdhury\n",
      "Python\n"
     ]
    }
   ],
   "source": [
    "dev_1 = Developer('Joydip', 'Chowdhury', 50000, 'Python')\n",
    "print(dev_1.fullname())\n",
    "print(dev_1.prog_lang)"
   ]
  },
  {
   "cell_type": "markdown",
   "metadata": {},
   "source": [
    "---> Create another sub class"
   ]
  },
  {
   "cell_type": "code",
   "execution_count": 12,
   "metadata": {},
   "outputs": [],
   "source": [
    "class Manager(Employee):\n",
    "    \n",
    "    def __init__(self,first,last,pay,emp_list=None):\n",
    "        super().__init__(first,last,pay)\n",
    "        if emp_list is None:\n",
    "            self.emp_list = []\n",
    "        else:\n",
    "            self.emp_list = emp_list\n",
    "    \n",
    "    def add_emp(self, emp):\n",
    "        if emp not in self.emp_list:\n",
    "            self.emp_list.append(emp)\n",
    "    \n",
    "    def rmv_emp(self, emp):\n",
    "        if emp in self.emp_list:\n",
    "            self.emp_list.remove(emp)\n",
    "    \n",
    "    def emp_info(self):\n",
    "        for emp in self.emp_list:\n",
    "            print('--->', emp.fullname())"
   ]
  },
  {
   "cell_type": "code",
   "execution_count": 13,
   "metadata": {},
   "outputs": [
    {
     "name": "stdout",
     "output_type": "stream",
     "text": [
      "---> Joydip Chowdhury\n",
      "None\n"
     ]
    }
   ],
   "source": [
    "dev_1 = Employee('Test', 'User', 40000)\n",
    "dev_2 = Developer('Joydip', 'Chowdhury', 60000, 'Python')\n",
    "\n",
    "mgr = Manager('Joydip', 'Chy', 80000, [dev_2])\n",
    "\n",
    "print(mgr.emp_info())"
   ]
  },
  {
   "cell_type": "code",
   "execution_count": 15,
   "metadata": {},
   "outputs": [
    {
     "name": "stdout",
     "output_type": "stream",
     "text": [
      "None\n"
     ]
    }
   ],
   "source": [
    "mgr.rmv_emp(dev_2)\n",
    "print(mgr.emp_info())"
   ]
  },
  {
   "cell_type": "code",
   "execution_count": null,
   "metadata": {},
   "outputs": [],
   "source": []
  }
 ],
 "metadata": {
  "kernelspec": {
   "display_name": "Python 3",
   "language": "python",
   "name": "python3"
  },
  "language_info": {
   "codemirror_mode": {
    "name": "ipython",
    "version": 3
   },
   "file_extension": ".py",
   "mimetype": "text/x-python",
   "name": "python",
   "nbconvert_exporter": "python",
   "pygments_lexer": "ipython3",
   "version": "3.6.8"
  }
 },
 "nbformat": 4,
 "nbformat_minor": 2
}
